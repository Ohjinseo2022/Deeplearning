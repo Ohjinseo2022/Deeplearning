{
 "cells": [
  {
   "cell_type": "code",
   "execution_count": 1,
   "metadata": {},
   "outputs": [],
   "source": [
    "from tensorflow.python.keras.models import Sequential\n",
    "from tensorflow.python.keras.layers import Dense\n",
    "from sklearn.model_selection import KFold\n",
    "from sklearn.metrics import accuracy_score\n",
    "\n",
    "import pandas as pd\n",
    "# 필요 라이브러리 임포트"
   ]
  },
  {
   "cell_type": "code",
   "execution_count": 2,
   "metadata": {},
   "outputs": [],
   "source": [
    "#깃허브 데이터 불러오기 (이전에완료)"
   ]
  },
  {
   "cell_type": "code",
   "execution_count": 3,
   "metadata": {},
   "outputs": [],
   "source": [
    "#데이터에서 광물데이터 불러옴 \n",
    "df= pd.read_csv('./data/sonar3.csv', header= None)\n",
    "\n",
    "#음파 관련 속성을 X로 , 광물의 종류를 y 로 저장 \n",
    "X = df.iloc[:,0:60]\n",
    "y = df.iloc[:,60]\n",
    "\n",
    "#몇겁으로 검증할지 정함\n",
    "k=5\n"
   ]
  },
  {
   "cell_type": "code",
   "execution_count": 4,
   "metadata": {},
   "outputs": [],
   "source": [
    "# KFold 함수를 불러옵니다. 분할하기 전에 샘플이 치우치지 않도록 섞어 줍니다.\n",
    "kfold = KFold(n_splits=k,shuffle=True)\n",
    "\n",
    "#정확도가 채워질 리스트를 선언\n",
    "acc_score =[]"
   ]
  },
  {
   "cell_type": "code",
   "execution_count": 5,
   "metadata": {},
   "outputs": [],
   "source": [
    "def model_fn():\n",
    "  model = Sequential()# 딥러닝모델쿠조 시작\n",
    "  model.add(Dense(24, input_dim=60,activation='relu'))\n",
    "  model.add(Dense(10,activation='relu'))\n",
    "  model.add(Dense(1,activation='sigmoid'))\n",
    "  return model\n",
    "\n",
    "\n",
    "\n",
    "\n"
   ]
  },
  {
   "cell_type": "code",
   "execution_count": 6,
   "metadata": {},
   "outputs": [
    {
     "name": "stdout",
     "output_type": "stream",
     "text": [
      "2/2 [==============================] - 0s 2ms/step - loss: 0.8102 - accuracy: 0.8095\n",
      "2/2 [==============================] - 0s 2ms/step - loss: 0.8665 - accuracy: 0.7857\n",
      "2/2 [==============================] - 0s 2ms/step - loss: 0.5830 - accuracy: 0.8095\n",
      "2/2 [==============================] - 0s 1ms/step - loss: 0.6072 - accuracy: 0.8537\n",
      "WARNING:tensorflow:5 out of the last 9 calls to <function Model.make_test_function.<locals>.test_function at 0x00000196A16823A0> triggered tf.function retracing. Tracing is expensive and the excessive number of tracings could be due to (1) creating @tf.function repeatedly in a loop, (2) passing tensors with different shapes, (3) passing Python objects instead of tensors. For (1), please define your @tf.function outside of the loop. For (2), @tf.function has reduce_retracing=True option that can avoid unnecessary retracing. For (3), please refer to https://www.tensorflow.org/guide/function#controlling_retracing and https://www.tensorflow.org/api_docs/python/tf/function for  more details.\n",
      "2/2 [==============================] - 0s 1ms/step - loss: 0.7247 - accuracy: 0.8049\n",
      "정확도 :  [0.8095238208770752, 0.7857142686843872, 0.8095238208770752, 0.8536585569381714, 0.8048780560493469]\n",
      "정확도 평균 : 0.8126597046852112\n"
     ]
    }
   ],
   "source": [
    "# k겹 교차검증을 이용해 k번의 학습을 실행합니다. \n",
    "# for문에 의해 k번 반복합니다.\n",
    "# split()에 의해 k 개의 학습셋 , 테스트셋을 분리합니다.\n",
    "\n",
    "for train_index, test_index in kfold.split(X):\n",
    "  X_train, X_test = X.iloc[train_index,:],X.iloc[test_index,:]\n",
    "  y_train,y_test = y.iloc[train_index],y.iloc[test_index]\n",
    "\n",
    "  model= model_fn()\n",
    "  model.compile(loss='binary_crossentropy',optimizer='adam',metrics=['accuracy'])\n",
    "  history = model.fit(X_train,y_train,epochs=200,batch_size=10, verbose=0)\n",
    "\n",
    "  accuracy = model.evaluate(X_test,y_test)[1] #정확도를 구합니다.\n",
    "  acc_score.append(accuracy) #정확도를 리스트에 저장합니다.\n",
    "\n",
    "#k번 실시된 정확도의 평균을 구합니다. \n",
    "avg_acc_score = sum(acc_score)/k\n",
    "\n",
    "#결과를 출력합니다. \n",
    "print('정확도 : ',acc_score)\n",
    "print('정확도 평균 :',avg_acc_score)"
   ]
  }
 ],
 "metadata": {
  "kernelspec": {
   "display_name": "Python 3.9.12 ('base')",
   "language": "python",
   "name": "python3"
  },
  "language_info": {
   "codemirror_mode": {
    "name": "ipython",
    "version": 3
   },
   "file_extension": ".py",
   "mimetype": "text/x-python",
   "name": "python",
   "nbconvert_exporter": "python",
   "pygments_lexer": "ipython3",
   "version": "3.9.12"
  },
  "orig_nbformat": 4,
  "vscode": {
   "interpreter": {
    "hash": "a077222d77dfe082b8f1dd562ad70e458ac2ab76993a0b248ab0476e32e9e8dd"
   }
  }
 },
 "nbformat": 4,
 "nbformat_minor": 2
}
