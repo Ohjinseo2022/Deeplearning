{
 "cells": [
  {
   "cell_type": "code",
   "execution_count": 15,
   "metadata": {},
   "outputs": [],
   "source": [
    "from tensorflow.keras.models import Sequential\n",
    "from tensorflow.keras.layers import Dense, Activation, Dropout, Flatten, Conv2D, MaxPooling2D\n",
    "from tensorflow.keras.preprocessing.image import ImageDataGenerator\n",
    "from tensorflow.keras.callbacks import EarlyStopping\n",
    "from tensorflow.keras import optimizers"
   ]
  },
  {
   "cell_type": "code",
   "execution_count": 2,
   "metadata": {},
   "outputs": [],
   "source": [
    "import numpy as np\n",
    "import matplotlib.pyplot as plt"
   ]
  },
  {
   "cell_type": "code",
   "execution_count": 3,
   "metadata": {},
   "outputs": [],
   "source": [
    "train_datagen = ImageDataGenerator(rescale=1./255,#주어진 이미지 크기를 설정\n",
    "horizontal_flip=True, #수평 대칭 이미지르 50% 확률로 만들어 추가합니다.\n",
    "width_shift_range=0.1, # 전체 크기의 15% 범위에서 좌우로 이동합니다.\n",
    "height_shift_range=0.1,# 위와 동일하게 위아래로 이동합니다.\n",
    "#rotation_range=5,      # 정해진 각도만큼 회전시킵니다.\n",
    "    #shear_range=0.7,       # 좌표 하나를 고정시키고 나머지를 이동시킵니다.\n",
    "    #zoom_range=[0.9, 2.2], # 확대 또는 축소시킵니다.\n",
    "    #vertical_flip=True,    # 수직 대칭 이미지를 만듭니다.\n",
    "    #fill_mode='nearest'    # 빈 공간을 채우는 방법입니다.\n",
    "                            # nearest 옵션은 가장 비슷한 색으로 채우게 됩니다.\n",
    ")"
   ]
  },
  {
   "cell_type": "code",
   "execution_count": 4,
   "metadata": {},
   "outputs": [
    {
     "name": "stderr",
     "output_type": "stream",
     "text": [
      "Cloning into 'data-ch20'...\n"
     ]
    }
   ],
   "source": [
    "!git clone https://github.com/taehojo/data-ch20.git"
   ]
  },
  {
   "cell_type": "code",
   "execution_count": 5,
   "metadata": {},
   "outputs": [
    {
     "name": "stdout",
     "output_type": "stream",
     "text": [
      "Found 160 images belonging to 2 classes.\n"
     ]
    }
   ],
   "source": [
    "train_generator = train_datagen.flow_from_directory(\n",
    "  './data-ch20/train', #학습셋이 있는 폴더의 위치입니다.\n",
    "  target_size=(150,150),\n",
    "  batch_size=5,\n",
    "  class_mode = 'binary'\n",
    ")"
   ]
  },
  {
   "cell_type": "code",
   "execution_count": 7,
   "metadata": {},
   "outputs": [
    {
     "name": "stdout",
     "output_type": "stream",
     "text": [
      "Found 120 images belonging to 2 classes.\n"
     ]
    }
   ],
   "source": [
    "# 테스트셋은 이미지 부풀리기 과정을 진행하지 않습니다.\n",
    "test_datagen = ImageDataGenerator(rescale=1./255)\n",
    "\n",
    "test_generator = test_datagen.flow_from_directory(\n",
    "  './data-ch20/test', #테스트셋이 있는 폴더의 위치입니다.\n",
    "  target_size=(150,150),\n",
    "  batch_size=5,\n",
    "  class_mode='binary'\n",
    ")"
   ]
  },
  {
   "cell_type": "code",
   "execution_count": 16,
   "metadata": {},
   "outputs": [
    {
     "name": "stdout",
     "output_type": "stream",
     "text": [
      "Epoch 1/100\n",
      "32/32 [==============================] - 3s 63ms/step - loss: 0.7051 - accuracy: 0.5125 - val_loss: 0.6884 - val_accuracy: 0.5200\n",
      "Epoch 2/100\n",
      "32/32 [==============================] - 1s 39ms/step - loss: 0.6961 - accuracy: 0.5063 - val_loss: 0.6872 - val_accuracy: 0.6800\n",
      "Epoch 3/100\n",
      "32/32 [==============================] - 1s 37ms/step - loss: 0.6886 - accuracy: 0.5875 - val_loss: 0.6740 - val_accuracy: 0.7200\n",
      "Epoch 4/100\n",
      "32/32 [==============================] - 1s 35ms/step - loss: 0.6791 - accuracy: 0.6000 - val_loss: 0.6682 - val_accuracy: 0.8000\n",
      "Epoch 5/100\n",
      "32/32 [==============================] - 1s 34ms/step - loss: 0.6759 - accuracy: 0.5750 - val_loss: 0.6466 - val_accuracy: 0.6600\n",
      "Epoch 6/100\n",
      "32/32 [==============================] - 1s 37ms/step - loss: 0.6756 - accuracy: 0.5750 - val_loss: 0.6286 - val_accuracy: 0.8600\n",
      "Epoch 7/100\n",
      "32/32 [==============================] - 1s 35ms/step - loss: 0.6134 - accuracy: 0.7437 - val_loss: 0.5608 - val_accuracy: 0.7200\n",
      "Epoch 8/100\n",
      "32/32 [==============================] - 1s 35ms/step - loss: 0.5487 - accuracy: 0.7875 - val_loss: 0.5768 - val_accuracy: 0.6400\n",
      "Epoch 9/100\n",
      "32/32 [==============================] - 1s 37ms/step - loss: 0.5780 - accuracy: 0.7250 - val_loss: 0.4620 - val_accuracy: 0.8600\n",
      "Epoch 10/100\n",
      "32/32 [==============================] - 1s 35ms/step - loss: 0.5087 - accuracy: 0.7563 - val_loss: 0.4841 - val_accuracy: 0.7200\n",
      "Epoch 11/100\n",
      "32/32 [==============================] - 1s 35ms/step - loss: 0.4683 - accuracy: 0.8062 - val_loss: 0.3987 - val_accuracy: 0.8200\n",
      "Epoch 12/100\n",
      "32/32 [==============================] - 1s 34ms/step - loss: 0.4261 - accuracy: 0.8562 - val_loss: 0.3771 - val_accuracy: 0.8000\n",
      "Epoch 13/100\n",
      "32/32 [==============================] - 1s 34ms/step - loss: 0.3636 - accuracy: 0.8438 - val_loss: 0.2294 - val_accuracy: 0.9400\n",
      "Epoch 14/100\n",
      "32/32 [==============================] - 1s 35ms/step - loss: 0.2869 - accuracy: 0.9187 - val_loss: 0.2249 - val_accuracy: 0.9000\n",
      "Epoch 15/100\n",
      "32/32 [==============================] - 1s 34ms/step - loss: 0.3263 - accuracy: 0.8750 - val_loss: 0.2101 - val_accuracy: 0.9400\n",
      "Epoch 16/100\n",
      "32/32 [==============================] - 1s 34ms/step - loss: 0.2208 - accuracy: 0.9375 - val_loss: 0.1843 - val_accuracy: 0.9200\n",
      "Epoch 17/100\n",
      "32/32 [==============================] - 1s 35ms/step - loss: 0.2603 - accuracy: 0.9062 - val_loss: 0.1408 - val_accuracy: 0.9800\n",
      "Epoch 18/100\n",
      "32/32 [==============================] - 1s 35ms/step - loss: 0.2324 - accuracy: 0.9187 - val_loss: 0.1197 - val_accuracy: 0.9800\n",
      "Epoch 19/100\n",
      "32/32 [==============================] - 1s 34ms/step - loss: 0.1629 - accuracy: 0.9625 - val_loss: 0.1137 - val_accuracy: 0.9800\n",
      "Epoch 20/100\n",
      "32/32 [==============================] - 1s 35ms/step - loss: 0.2584 - accuracy: 0.9062 - val_loss: 0.5434 - val_accuracy: 0.7400\n",
      "Epoch 21/100\n",
      "32/32 [==============================] - 1s 35ms/step - loss: 0.2596 - accuracy: 0.8875 - val_loss: 0.1638 - val_accuracy: 0.9400\n",
      "Epoch 22/100\n",
      "32/32 [==============================] - 1s 35ms/step - loss: 0.1543 - accuracy: 0.9563 - val_loss: 0.0871 - val_accuracy: 0.9800\n",
      "Epoch 23/100\n",
      "32/32 [==============================] - 1s 35ms/step - loss: 0.1445 - accuracy: 0.9438 - val_loss: 0.1103 - val_accuracy: 0.9800\n",
      "Epoch 24/100\n",
      "32/32 [==============================] - 1s 35ms/step - loss: 0.1702 - accuracy: 0.9563 - val_loss: 0.0643 - val_accuracy: 1.0000\n",
      "Epoch 25/100\n",
      "32/32 [==============================] - 1s 35ms/step - loss: 0.1233 - accuracy: 0.9500 - val_loss: 0.0804 - val_accuracy: 0.9600\n",
      "Epoch 26/100\n",
      "32/32 [==============================] - 1s 35ms/step - loss: 0.1251 - accuracy: 0.9500 - val_loss: 0.1260 - val_accuracy: 0.9400\n",
      "Epoch 27/100\n",
      "32/32 [==============================] - 1s 35ms/step - loss: 0.1615 - accuracy: 0.9563 - val_loss: 0.1804 - val_accuracy: 0.9400\n",
      "Epoch 28/100\n",
      "32/32 [==============================] - 1s 35ms/step - loss: 0.1375 - accuracy: 0.9750 - val_loss: 0.0810 - val_accuracy: 0.9600\n",
      "Epoch 29/100\n",
      "32/32 [==============================] - 1s 38ms/step - loss: 0.1104 - accuracy: 0.9688 - val_loss: 0.0701 - val_accuracy: 0.9800\n"
     ]
    }
   ],
   "source": [
    "#앞서 배운 CNN 모델을 만들어 적용 보겠습니다.\n",
    "model = Sequential()\n",
    "model.add(Conv2D(32,(3,3), input_shape=(150,150,3)))\n",
    "model.add(Activation('relu'))\n",
    "model.add(MaxPooling2D(pool_size=(2,2)))\n",
    "\n",
    "model.add(Conv2D(32,(3,3)))\n",
    "model.add(Activation('relu'))\n",
    "model.add(MaxPooling2D(pool_size=(2,2)))\n",
    "\n",
    "model.add(Conv2D(64,(3,3)))\n",
    "model.add(Activation('relu'))\n",
    "model.add(MaxPooling2D(pool_size=(2,2)))\n",
    "\n",
    "model.add(Flatten())\n",
    "model.add(Dense(64))\n",
    "model.add(Activation('relu'))\n",
    "model.add(Dropout(0.5))\n",
    "model.add(Dense(1))\n",
    "model.add(Activation('sigmoid'))\n",
    "\n",
    "# 모델 실행의 옵션을 설정합니다.\n",
    "model.compile(loss='binary_crossentropy', optimizer=optimizers.Adam(learning_rate=0.0002), metrics=['accuracy'])\n",
    "\n",
    "# 학습 조기 중단을 설정합니다.\n",
    "early_stopping_callback = EarlyStopping(monitor='val_loss',patience=5)\n",
    "\n",
    "# 모뎅을 실행합니다.\n",
    "history = model.fit(\n",
    "  train_generator,\n",
    "  epochs=100,\n",
    "  validation_data=test_generator,\n",
    "  validation_steps=10,\n",
    "  callbacks=[early_stopping_callback]\n",
    ")\n",
    "\n",
    "# 검증셋과 학습셋의 오차를 저장합니다\n",
    "y_vloss = history.history['val_loss']\n",
    "y_loss = history.history['loss']"
   ]
  },
  {
   "cell_type": "code",
   "execution_count": 19,
   "metadata": {},
   "outputs": [
    {
     "data": {
      "image/png": "[encoded data removed]",
      "text/plain": [
       "<Figure size 432x288 with 1 Axes>"
      ]
     },
     "metadata": {
      "needs_background": "light"
     },
     "output_type": "display_data"
    }
   ],
   "source": [
    "#그래프로 표현해 봅니다.\n",
    "x_len= np.arange(len(y_loss))\n",
    "plt.plot(x_len,y_vloss,marker='.',c='red',label='Testset_loss')\n",
    "plt.plot(x_len,y_loss, marker='.',c='blue',label='Trainset_loss')\n",
    "#그래프에 그리드를 주고 레이블을 표시하겠습니ㅏㄷ. \n",
    "plt.legend(loc='upper right')\n",
    "plt.grid()\n",
    "plt.xlabel('epoch')\n",
    "plt.ylabel('loss')\n",
    "plt.show()"
   ]
  },
  {
   "cell_type": "code",
   "execution_count": null,
   "metadata": {},
   "outputs": [],
   "source": []
  },
  {
   "cell_type": "code",
   "execution_count": null,
   "metadata": {},
   "outputs": [],
   "source": []
  }
 ],
 "metadata": {
  "kernelspec": {
   "display_name": "Python 3.9.12 ('base')",
   "language": "python",
   "name": "python3"
  },
  "language_info": {
   "codemirror_mode": {
    "name": "ipython",
    "version": 3
   },
   "file_extension": ".py",
   "mimetype": "text/x-python",
   "name": "python",
   "nbconvert_exporter": "python",
   "pygments_lexer": "ipython3",
   "version": "3.9.12"
  },
  "orig_nbformat": 4,
  "vscode": {
   "interpreter": {
    "hash": "a077222d77dfe082b8f1dd562ad70e458ac2ab76993a0b248ab0476e32e9e8dd"
   }
  }
 },
 "nbformat": 4,
 "nbformat_minor": 2
}
