{
 "cells": [
  {
   "cell_type": "code",
   "execution_count": 2,
   "metadata": {},
   "outputs": [
    {
     "name": "stderr",
     "output_type": "stream",
     "text": [
      "ERROR: Invalid requirement: '##'\n"
     ]
    }
   ],
   "source": [
    "!pip install pyupbit ## 업비트 가상화폐정보를 불러오기위한 라이브러리 설치 "
   ]
  },
  {
   "cell_type": "code",
   "execution_count": 5,
   "metadata": {},
   "outputs": [],
   "source": [
    "import tkinter\n",
    "\n",
    "window = tkinter.Tk() #window 객체생성\n",
    "window.title(\"가상화폐 금액표시\") #타이틀이름 \n",
    "window.geometry(\"400x200\") #GUI 사이즈 지정\n",
    "window.resizable(False,False) #크기조절 가능유무\n",
    "\n",
    "label = tkinter.Label(window, text=\"hello\") #문자열출력\n",
    "label.pack()\n",
    "\n",
    "window.mainloop() # 창반복"
   ]
  },
  {
   "cell_type": "code",
   "execution_count": 7,
   "metadata": {},
   "outputs": [],
   "source": [
    "import tkinter\n",
    "import tkinter.font \n",
    "\n",
    "\n",
    "window = tkinter.Tk() #window 객체생성\n",
    "window.title(\"가상화폐 금액표시\") #타이틀이름 \n",
    "window.geometry(\"400x200\") #GUI 사이즈 지정\n",
    "window.resizable(False,False) #크기조절 가능유무\n",
    "\n",
    "font = tkinter.font.Font(size=30)# 폰트사이즈 수정\n",
    "label = tkinter.Label(window, text=\"hello\",font=font) #문자열출력\n",
    "label.pack()\n",
    "\n",
    "window.mainloop() # 창반복"
   ]
  },
  {
   "cell_type": "code",
   "execution_count": 9,
   "metadata": {},
   "outputs": [],
   "source": [
    "import tkinter\n",
    "import tkinter.font \n",
    "\n",
    "\n",
    "window = tkinter.Tk() #window 객체생성\n",
    "window.title(\"가상화폐 금액표시\") #타이틀이름 \n",
    "window.geometry(\"400x200\") #GUI 사이즈 지정\n",
    "window.resizable(False,False) #크기조절 가능유무\n",
    "\n",
    "font = tkinter.font.Font(size=30)#폰트 사이즈 \n",
    "label = tkinter.Label(window, text=\"\",font=font) #문자열출력\n",
    "label.pack()\n",
    "\n",
    "cnt = 0 \n",
    "def get_coin_1sec():\n",
    "  global cnt\n",
    "  now_btc_price = str(cnt)\n",
    "  cnt = cnt+1\n",
    "  label.config(text=now_btc_price)\n",
    "  window.after(1000,get_coin_1sec)\n",
    "\n",
    "get_coin_1sec()\n",
    "\n",
    "window.mainloop()"
   ]
  },
  {
   "cell_type": "code",
   "execution_count": 13,
   "metadata": {},
   "outputs": [],
   "source": [
    "import tkinter\n",
    "import tkinter.font\n",
    "import pyupbit\n",
    "import threading\n",
    "import time\n",
    "\n",
    "coin_price =0\n",
    "\n",
    "def get_coin_price():\n",
    "  global coin_price\n",
    "  while True:\n",
    "    coin_price = pyupbit.get_current_price(\"KRW-BTC\")\n",
    "    time.sleep(1.0)\n",
    "\n",
    "t1 = threading.Thread(target=get_coin_price)\n",
    "t1.daemon =True\n",
    "t1.start()\n",
    "\n",
    "window = tkinter.Tk()\n",
    "window.title(\"비트코인 실시간 가격\")\n",
    "window.geometry(\"400x50\")\n",
    "window.resizable(False,False)\n",
    "\n",
    "font = tkinter.font.Font(size=30)\n",
    "label= tkinter.Label(window, text=\"\", font=font)\n",
    "label.pack()\n",
    "\n",
    "def get_coin_1sec():\n",
    "  global coin_price\n",
    "  now_btc_price = str(coin_price)\n",
    "  label.config(text=now_btc_price)\n",
    "  window.after(1000,get_coin_1sec)\n",
    "\n",
    "get_coin_1sec()\n",
    "\n",
    "window.mainloop()"
   ]
  },
  {
   "cell_type": "code",
   "execution_count": 17,
   "metadata": {},
   "outputs": [
    {
     "name": "stdout",
     "output_type": "stream",
     "text": [
      "['KRW-BTC', 'KRW-ETH', 'KRW-NEO', 'KRW-MTL', 'KRW-XRP', 'KRW-ETC', 'KRW-OMG', 'KRW-SNT', 'KRW-WAVES', 'KRW-XEM', 'KRW-QTUM', 'KRW-LSK', 'KRW-STEEM', 'KRW-XLM', 'KRW-ARDR', 'KRW-ARK', 'KRW-STORJ', 'KRW-GRS', 'KRW-REP', 'KRW-ADA', 'KRW-SBD', 'KRW-POWR', 'KRW-BTG', 'KRW-ICX', 'KRW-EOS', 'KRW-TRX', 'KRW-SC', 'KRW-ONT', 'KRW-ZIL', 'KRW-POLY', 'KRW-ZRX', 'KRW-LOOM', 'KRW-BCH', 'KRW-BAT', 'KRW-IOST', 'KRW-RFR', 'KRW-CVC', 'KRW-IQ', 'KRW-IOTA', 'KRW-MFT', 'KRW-ONG', 'KRW-GAS', 'KRW-UPP', 'KRW-ELF', 'KRW-KNC', 'KRW-BSV', 'KRW-THETA', 'KRW-QKC', 'KRW-BTT', 'KRW-MOC', 'KRW-ENJ', 'KRW-TFUEL', 'KRW-MANA', 'KRW-ANKR', 'KRW-AERGO', 'KRW-ATOM', 'KRW-TT', 'KRW-CRE', 'KRW-MBL', 'KRW-WAXP', 'KRW-HBAR', 'KRW-MED', 'KRW-MLK', 'KRW-STPT', 'KRW-ORBS', 'KRW-VET', 'KRW-CHZ', 'KRW-STMX', 'KRW-DKA', 'KRW-HIVE', 'KRW-KAVA', 'KRW-AHT', 'KRW-LINK', 'KRW-XTZ', 'KRW-BORA', 'KRW-JST', 'KRW-CRO', 'KRW-TON', 'KRW-SXP', 'KRW-HUNT', 'KRW-PLA', 'KRW-DOT', 'KRW-SRM', 'KRW-MVL', 'KRW-STRAX', 'KRW-AQT', 'KRW-GLM', 'KRW-SSX', 'KRW-META', 'KRW-FCT2', 'KRW-CBK', 'KRW-SAND', 'KRW-HUM', 'KRW-DOGE', 'KRW-STRK', 'KRW-PUNDIX', 'KRW-FLOW', 'KRW-DAWN', 'KRW-AXS', 'KRW-STX', 'KRW-XEC', 'KRW-SOL', 'KRW-MATIC', 'KRW-NU', 'KRW-AAVE', 'KRW-1INCH', 'KRW-ALGO', 'KRW-NEAR', 'KRW-WEMIX', 'KRW-AVAX', 'KRW-T', 'KRW-CELO', 'KRW-GMT', 'KRW-APT']\n"
     ]
    }
   ],
   "source": [
    "print(pyupbit.get_tickers(\"KRW\"))"
   ]
  }
 ],
 "metadata": {
  "kernelspec": {
   "display_name": "Python 3.9.12 ('base')",
   "language": "python",
   "name": "python3"
  },
  "language_info": {
   "codemirror_mode": {
    "name": "ipython",
    "version": 3
   },
   "file_extension": ".py",
   "mimetype": "text/x-python",
   "name": "python",
   "nbconvert_exporter": "python",
   "pygments_lexer": "ipython3",
   "version": "3.9.12"
  },
  "orig_nbformat": 4,
  "vscode": {
   "interpreter": {
    "hash": "a077222d77dfe082b8f1dd562ad70e458ac2ab76993a0b248ab0476e32e9e8dd"
   }
  }
 },
 "nbformat": 4,
 "nbformat_minor": 2
}
