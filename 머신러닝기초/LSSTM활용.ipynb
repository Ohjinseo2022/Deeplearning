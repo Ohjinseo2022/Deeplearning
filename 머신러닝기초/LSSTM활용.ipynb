{
 "cells": [
  {
   "cell_type": "code",
   "execution_count": 15,
   "metadata": {},
   "outputs": [],
   "source": [
    "#로이터 뉴스 데이터셋 불러오기\n",
    "from tensorflow.keras.models import Sequential\n",
    "from tensorflow.keras.layers import Dense, LSTM,Embedding\n",
    "from tensorflow.keras.utils import to_categorical\n",
    "from tensorflow.keras.preprocessing import sequence\n",
    "from tensorflow.keras.datasets import reuters\n",
    "from tensorflow.keras.callbacks import EarlyStopping\n",
    "\n",
    "\n",
    "\n",
    "import numpy as np\n",
    "import matplotlib.pyplot as plt"
   ]
  },
  {
   "cell_type": "code",
   "execution_count": 3,
   "metadata": {},
   "outputs": [
    {
     "name": "stdout",
     "output_type": "stream",
     "text": [
      "Downloading data from https://storage.googleapis.com/tensorflow/tf-keras-datasets/reuters.npz\n",
      "2110848/2110848 [==============================] - 0s 0us/step\n"
     ]
    }
   ],
   "source": [
    "# 불러온데이터를 학습시켜 데이터셋으로 나누기\n",
    "(X_train, y_train),(X_test,y_test) = reuters.load_data(num_words=1000, test_split=0.2)"
   ]
  },
  {
   "cell_type": "code",
   "execution_count": 5,
   "metadata": {},
   "outputs": [
    {
     "name": "stdout",
     "output_type": "stream",
     "text": [
      "46 카테고리\n",
      "8982 학습용 뉴스 기사\n",
      "2246 테스트용 뉴스기사\n",
      "[1, 2, 2, 8, 43, 10, 447, 5, 25, 207, 270, 5, 2, 111, 16, 369, 186, 90, 67, 7, 89, 5, 19, 102, 6, 19, 124, 15, 90, 67, 84, 22, 482, 26, 7, 48, 4, 49, 8, 864, 39, 209, 154, 6, 151, 6, 83, 11, 15, 22, 155, 11, 15, 7, 48, 9, 2, 2, 504, 6, 258, 6, 272, 11, 15, 22, 134, 44, 11, 15, 16, 8, 197, 2, 90, 67, 52, 29, 209, 30, 32, 132, 6, 109, 15, 17, 12]\n"
     ]
    }
   ],
   "source": [
    "category = np.max(y_train) + 1\n",
    "print(category,'카테고리')\n",
    "print(len(X_train),'학습용 뉴스 기사')\n",
    "print(len(X_test),'테스트용 뉴스기사')\n",
    "print(X_train[0])"
   ]
  },
  {
   "cell_type": "code",
   "execution_count": 6,
   "metadata": {},
   "outputs": [],
   "source": [
    "\n",
    "\n",
    "#단어의 수를 맞추어 줍니다.\n",
    "X_train =sequence.pad_sequences(X_train,maxlen=100)\n",
    "X_test = sequence.pad_sequences(X_test,maxlen=100)"
   ]
  },
  {
   "cell_type": "code",
   "execution_count": 8,
   "metadata": {},
   "outputs": [],
   "source": [
    "# 원-핫 인코딩 처리를 합나다.\n",
    "y_train = to_categorical(y_train)\n",
    "y_test = to_categorical(y_test)\n"
   ]
  },
  {
   "cell_type": "code",
   "execution_count": 9,
   "metadata": {},
   "outputs": [],
   "source": [
    "model = Sequential()\n",
    "model.add(Embedding(1000,100))\n",
    "model.add(LSTM(100,activation='tanh'))\n",
    "model.add(Dense(46,activation='softmax'))\n",
    "\n",
    "#모델의 실행 옵션을 정합니다\n",
    "model.compile(loss='categorical_crossentropy', optimizer='adam', metrics=['accuracy'])\n",
    "\n",
    "#학습의 조기 중단을 설정합니다.\n",
    "early_stopping_callback =EarlyStopping(monitor='val_loss',patience=5)"
   ]
  },
  {
   "cell_type": "code",
   "execution_count": 10,
   "metadata": {},
   "outputs": [
    {
     "name": "stdout",
     "output_type": "stream",
     "text": [
      "Epoch 1/200\n",
      "450/450 [==============================] - 14s 29ms/step - loss: 2.1383 - accuracy: 0.4579 - val_loss: 1.8874 - val_accuracy: 0.5272\n",
      "Epoch 2/200\n",
      "450/450 [==============================] - 13s 28ms/step - loss: 1.8003 - accuracy: 0.5355 - val_loss: 1.7171 - val_accuracy: 0.5583\n",
      "Epoch 3/200\n",
      "450/450 [==============================] - 13s 28ms/step - loss: 1.7036 - accuracy: 0.5615 - val_loss: 1.6987 - val_accuracy: 0.5806\n",
      "Epoch 4/200\n",
      "450/450 [==============================] - 13s 28ms/step - loss: 1.6985 - accuracy: 0.5721 - val_loss: 1.6354 - val_accuracy: 0.5997\n",
      "Epoch 5/200\n",
      "450/450 [==============================] - 13s 28ms/step - loss: 1.5016 - accuracy: 0.6172 - val_loss: 1.5053 - val_accuracy: 0.6215\n",
      "Epoch 6/200\n",
      "450/450 [==============================] - 12s 27ms/step - loss: 1.4037 - accuracy: 0.6448 - val_loss: 1.4267 - val_accuracy: 0.6420\n",
      "Epoch 7/200\n",
      "450/450 [==============================] - 14s 31ms/step - loss: 1.3231 - accuracy: 0.6646 - val_loss: 1.3970 - val_accuracy: 0.6465\n",
      "Epoch 8/200\n",
      "450/450 [==============================] - 15s 33ms/step - loss: 1.2316 - accuracy: 0.6880 - val_loss: 1.3099 - val_accuracy: 0.6679\n",
      "Epoch 9/200\n",
      "450/450 [==============================] - 15s 33ms/step - loss: 1.1297 - accuracy: 0.7128 - val_loss: 1.2655 - val_accuracy: 0.6812\n",
      "Epoch 10/200\n",
      "450/450 [==============================] - 15s 33ms/step - loss: 1.0656 - accuracy: 0.7298 - val_loss: 1.2236 - val_accuracy: 0.6830\n",
      "Epoch 11/200\n",
      "450/450 [==============================] - 15s 34ms/step - loss: 0.9891 - accuracy: 0.7526 - val_loss: 1.1835 - val_accuracy: 0.7048\n",
      "Epoch 12/200\n",
      "450/450 [==============================] - 15s 34ms/step - loss: 0.9177 - accuracy: 0.7680 - val_loss: 1.1456 - val_accuracy: 0.7155\n",
      "Epoch 13/200\n",
      "450/450 [==============================] - 15s 34ms/step - loss: 0.8590 - accuracy: 0.7818 - val_loss: 1.1491 - val_accuracy: 0.7164\n",
      "Epoch 14/200\n",
      "450/450 [==============================] - 16s 35ms/step - loss: 0.8055 - accuracy: 0.7950 - val_loss: 1.1416 - val_accuracy: 0.7191\n",
      "Epoch 15/200\n",
      "450/450 [==============================] - 16s 35ms/step - loss: 0.7492 - accuracy: 0.8088 - val_loss: 1.1313 - val_accuracy: 0.7186\n",
      "Epoch 16/200\n",
      "450/450 [==============================] - 15s 34ms/step - loss: 0.6924 - accuracy: 0.8244 - val_loss: 1.1608 - val_accuracy: 0.7168\n",
      "Epoch 17/200\n",
      "450/450 [==============================] - 15s 34ms/step - loss: 0.6485 - accuracy: 0.8347 - val_loss: 1.1597 - val_accuracy: 0.7204\n",
      "Epoch 18/200\n",
      "450/450 [==============================] - 16s 35ms/step - loss: 0.5974 - accuracy: 0.8494 - val_loss: 1.1894 - val_accuracy: 0.7186\n",
      "Epoch 19/200\n",
      "450/450 [==============================] - 15s 34ms/step - loss: 0.5626 - accuracy: 0.8570 - val_loss: 1.1790 - val_accuracy: 0.7217\n",
      "Epoch 20/200\n",
      "450/450 [==============================] - 16s 35ms/step - loss: 0.5083 - accuracy: 0.8732 - val_loss: 1.2072 - val_accuracy: 0.7204\n"
     ]
    }
   ],
   "source": [
    "#모델을 실행합니다 .\n",
    "history = model.fit(X_train,y_train,batch_size=20,epochs=200,validation_data=(X_test,y_test),callbacks=[early_stopping_callback])"
   ]
  },
  {
   "cell_type": "code",
   "execution_count": 13,
   "metadata": {},
   "outputs": [
    {
     "name": "stdout",
     "output_type": "stream",
     "text": [
      "71/71 [==============================] - 1s 10ms/step - loss: 1.2072 - accuracy: 0.7204\n",
      "\n",
      " 테스트 정확도 : 0.7204\n"
     ]
    }
   ],
   "source": [
    "#테스트의 정확도를 출력합니다. \n",
    "print('\\n 테스트 정확도 : %.4f' %(model.evaluate(X_test,y_test)[1]))\n",
    "\n",
    "\n",
    "#검증셋과 학습셋의 오차를 저장합니다. \n",
    "y_vloss = history.history['val_loss']\n",
    "y_loss = history.history['loss']"
   ]
  },
  {
   "cell_type": "code",
   "execution_count": 17,
   "metadata": {},
   "outputs": [
    {
     "data": {
      "image/png": "[encoded data removed]",
      "text/plain": [
       "<Figure size 432x288 with 1 Axes>"
      ]
     },
     "metadata": {
      "needs_background": "light"
     },
     "output_type": "display_data"
    }
   ],
   "source": [
    "#그래프로 표현 \n",
    "x_len = np.arange(len(y_loss))\n",
    "plt.plot(x_len,y_vloss,marker='',c='red',label='Testset_loss')\n",
    "plt.plot(x_len,y_loss,marker='',c='blue',label='Trainset_loss')\n",
    "\n",
    "#그래프에 그리드를 주고 레이블을 표기하겠습니다.\n",
    "plt.legend(loc='upper right')\n",
    "plt.grid()\n",
    "plt.xlabel('epoch')\n",
    "plt.ylabel('loss')\n",
    "plt.show()\n",
    "\n"
   ]
  },
  {
   "cell_type": "code",
   "execution_count": null,
   "metadata": {},
   "outputs": [],
   "source": []
  }
 ],
 "metadata": {
  "kernelspec": {
   "display_name": "Python 3.9.12 ('base')",
   "language": "python",
   "name": "python3"
  },
  "language_info": {
   "codemirror_mode": {
    "name": "ipython",
    "version": 3
   },
   "file_extension": ".py",
   "mimetype": "text/x-python",
   "name": "python",
   "nbconvert_exporter": "python",
   "pygments_lexer": "ipython3",
   "version": "3.9.12"
  },
  "orig_nbformat": 4,
  "vscode": {
   "interpreter": {
    "hash": "a077222d77dfe082b8f1dd562ad70e458ac2ab76993a0b248ab0476e32e9e8dd"
   }
  }
 },
 "nbformat": 4,
 "nbformat_minor": 2
}
