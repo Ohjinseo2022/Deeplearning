{
 "cells": [
  {
   "cell_type": "code",
   "execution_count": 8,
   "metadata": {},
   "outputs": [],
   "source": [
    "from tensorflow.python.keras.models import Sequential\n",
    "from tensorflow.python.keras.layers import Dense\n",
    "from sklearn.model_selection import train_test_split\n",
    "import pandas as pd"
   ]
  },
  {
   "cell_type": "code",
   "execution_count": 9,
   "metadata": {},
   "outputs": [],
   "source": [
    "#와인데이터 불러오기 \n",
    "df = pd.read_csv('./data/wine.csv',header=None)\n",
    "\n"
   ]
  },
  {
   "cell_type": "code",
   "execution_count": 10,
   "metadata": {},
   "outputs": [],
   "source": [
    "X= df.iloc[:,0:12]\n",
    "y = df.iloc[:,12]"
   ]
  },
  {
   "cell_type": "code",
   "execution_count": 11,
   "metadata": {},
   "outputs": [],
   "source": [
    "X_train, X_test, y_train, y_test = train_test_split(X,y ,test_size=0.2,shuffle=True)"
   ]
  },
  {
   "cell_type": "code",
   "execution_count": 12,
   "metadata": {},
   "outputs": [
    {
     "name": "stdout",
     "output_type": "stream",
     "text": [
      "Model: \"sequential\"\n",
      "_________________________________________________________________\n",
      "Layer (type)                 Output Shape              Param #   \n",
      "=================================================================\n",
      "dense (Dense)                (None, 30)                390       \n",
      "_________________________________________________________________\n",
      "dense_1 (Dense)              (None, 12)                372       \n",
      "_________________________________________________________________\n",
      "dense_2 (Dense)              (None, 8)                 104       \n",
      "_________________________________________________________________\n",
      "dense_3 (Dense)              (None, 1)                 9         \n",
      "=================================================================\n",
      "Total params: 875\n",
      "Trainable params: 875\n",
      "Non-trainable params: 0\n",
      "_________________________________________________________________\n"
     ]
    }
   ],
   "source": [
    "#모델 구조설정\n",
    "model = Sequential()\n",
    "model.add(Dense(30, input_dim=12, activation='relu'))\n",
    "model.add(Dense(12, activation='relu'))\n",
    "model.add(Dense(8,activation='relu'))\n",
    "model.add(Dense(1, activation='sigmoid'))\n",
    "model.summary()"
   ]
  },
  {
   "cell_type": "code",
   "execution_count": 14,
   "metadata": {},
   "outputs": [],
   "source": [
    "#모델을 컴파일 합니다.\n",
    "model.compile(loss='binary_crossentropy',optimizer='adam',metrics=['accuracy'])"
   ]
  },
  {
   "cell_type": "code",
   "execution_count": 15,
   "metadata": {},
   "outputs": [
    {
     "name": "stdout",
     "output_type": "stream",
     "text": [
      "Epoch 1/50\n",
      "8/8 [==============================] - 0s 20ms/step - loss: 1.2005 - accuracy: 0.7583 - val_loss: 0.9170 - val_accuracy: 0.7500\n",
      "Epoch 2/50\n",
      "8/8 [==============================] - 0s 4ms/step - loss: 0.8345 - accuracy: 0.7583 - val_loss: 0.6464 - val_accuracy: 0.7500\n",
      "Epoch 3/50\n",
      "8/8 [==============================] - 0s 4ms/step - loss: 0.5932 - accuracy: 0.7596 - val_loss: 0.4666 - val_accuracy: 0.7569\n",
      "Epoch 4/50\n",
      "8/8 [==============================] - 0s 4ms/step - loss: 0.4375 - accuracy: 0.7819 - val_loss: 0.3616 - val_accuracy: 0.8062\n",
      "Epoch 5/50\n",
      "8/8 [==============================] - 0s 4ms/step - loss: 0.3521 - accuracy: 0.8263 - val_loss: 0.3119 - val_accuracy: 0.8515\n",
      "Epoch 6/50\n",
      "8/8 [==============================] - 0s 4ms/step - loss: 0.3095 - accuracy: 0.8681 - val_loss: 0.2758 - val_accuracy: 0.8985\n",
      "Epoch 7/50\n",
      "8/8 [==============================] - 0s 3ms/step - loss: 0.2794 - accuracy: 0.9084 - val_loss: 0.2452 - val_accuracy: 0.9115\n",
      "Epoch 8/50\n",
      "8/8 [==============================] - 0s 3ms/step - loss: 0.2525 - accuracy: 0.9179 - val_loss: 0.2166 - val_accuracy: 0.9262\n",
      "Epoch 9/50\n",
      "8/8 [==============================] - 0s 4ms/step - loss: 0.2331 - accuracy: 0.9279 - val_loss: 0.1990 - val_accuracy: 0.9315\n",
      "Epoch 10/50\n",
      "8/8 [==============================] - 0s 3ms/step - loss: 0.2180 - accuracy: 0.9305 - val_loss: 0.1903 - val_accuracy: 0.9331\n",
      "Epoch 11/50\n",
      "8/8 [==============================] - 0s 3ms/step - loss: 0.2066 - accuracy: 0.9320 - val_loss: 0.1868 - val_accuracy: 0.9331\n",
      "Epoch 12/50\n",
      "8/8 [==============================] - 0s 3ms/step - loss: 0.2003 - accuracy: 0.9343 - val_loss: 0.1796 - val_accuracy: 0.9362\n",
      "Epoch 13/50\n",
      "8/8 [==============================] - 0s 3ms/step - loss: 0.1969 - accuracy: 0.9338 - val_loss: 0.1775 - val_accuracy: 0.9392\n",
      "Epoch 14/50\n",
      "8/8 [==============================] - 0s 3ms/step - loss: 0.1946 - accuracy: 0.9361 - val_loss: 0.1749 - val_accuracy: 0.9362\n",
      "Epoch 15/50\n",
      "8/8 [==============================] - 0s 3ms/step - loss: 0.1909 - accuracy: 0.9356 - val_loss: 0.1734 - val_accuracy: 0.9385\n",
      "Epoch 16/50\n",
      "8/8 [==============================] - 0s 3ms/step - loss: 0.1879 - accuracy: 0.9366 - val_loss: 0.1698 - val_accuracy: 0.9377\n",
      "Epoch 17/50\n",
      "8/8 [==============================] - 0s 3ms/step - loss: 0.1859 - accuracy: 0.9364 - val_loss: 0.1672 - val_accuracy: 0.9400\n",
      "Epoch 18/50\n",
      "8/8 [==============================] - 0s 3ms/step - loss: 0.1830 - accuracy: 0.9366 - val_loss: 0.1658 - val_accuracy: 0.9377\n",
      "Epoch 19/50\n",
      "8/8 [==============================] - 0s 3ms/step - loss: 0.1805 - accuracy: 0.9376 - val_loss: 0.1625 - val_accuracy: 0.9392\n",
      "Epoch 20/50\n",
      "8/8 [==============================] - 0s 3ms/step - loss: 0.1777 - accuracy: 0.9382 - val_loss: 0.1601 - val_accuracy: 0.9415\n",
      "Epoch 21/50\n",
      "8/8 [==============================] - 0s 3ms/step - loss: 0.1735 - accuracy: 0.9389 - val_loss: 0.1591 - val_accuracy: 0.9438\n",
      "Epoch 22/50\n",
      "8/8 [==============================] - 0s 3ms/step - loss: 0.1724 - accuracy: 0.9387 - val_loss: 0.1557 - val_accuracy: 0.9408\n",
      "Epoch 23/50\n",
      "8/8 [==============================] - 0s 3ms/step - loss: 0.1699 - accuracy: 0.9418 - val_loss: 0.1556 - val_accuracy: 0.9423\n",
      "Epoch 24/50\n",
      "8/8 [==============================] - 0s 3ms/step - loss: 0.1670 - accuracy: 0.9410 - val_loss: 0.1534 - val_accuracy: 0.9454\n",
      "Epoch 25/50\n",
      "8/8 [==============================] - 0s 3ms/step - loss: 0.1654 - accuracy: 0.9420 - val_loss: 0.1497 - val_accuracy: 0.9431\n",
      "Epoch 26/50\n",
      "8/8 [==============================] - 0s 3ms/step - loss: 0.1622 - accuracy: 0.9435 - val_loss: 0.1474 - val_accuracy: 0.9431\n",
      "Epoch 27/50\n",
      "8/8 [==============================] - 0s 3ms/step - loss: 0.1596 - accuracy: 0.9435 - val_loss: 0.1469 - val_accuracy: 0.9438\n",
      "Epoch 28/50\n",
      "8/8 [==============================] - 0s 3ms/step - loss: 0.1571 - accuracy: 0.9459 - val_loss: 0.1419 - val_accuracy: 0.9438\n",
      "Epoch 29/50\n",
      "8/8 [==============================] - 0s 3ms/step - loss: 0.1542 - accuracy: 0.9459 - val_loss: 0.1370 - val_accuracy: 0.9462\n",
      "Epoch 30/50\n",
      "8/8 [==============================] - 0s 3ms/step - loss: 0.1513 - accuracy: 0.9479 - val_loss: 0.1335 - val_accuracy: 0.9477\n",
      "Epoch 31/50\n",
      "8/8 [==============================] - 0s 3ms/step - loss: 0.1475 - accuracy: 0.9487 - val_loss: 0.1323 - val_accuracy: 0.9477\n",
      "Epoch 32/50\n",
      "8/8 [==============================] - 0s 3ms/step - loss: 0.1482 - accuracy: 0.9466 - val_loss: 0.1325 - val_accuracy: 0.9469\n",
      "Epoch 33/50\n",
      "8/8 [==============================] - 0s 3ms/step - loss: 0.1422 - accuracy: 0.9471 - val_loss: 0.1249 - val_accuracy: 0.9492\n",
      "Epoch 34/50\n",
      "8/8 [==============================] - 0s 3ms/step - loss: 0.1391 - accuracy: 0.9494 - val_loss: 0.1243 - val_accuracy: 0.9523\n",
      "Epoch 35/50\n",
      "8/8 [==============================] - 0s 3ms/step - loss: 0.1381 - accuracy: 0.9500 - val_loss: 0.1228 - val_accuracy: 0.9538\n",
      "Epoch 36/50\n",
      "8/8 [==============================] - 0s 3ms/step - loss: 0.1330 - accuracy: 0.9512 - val_loss: 0.1199 - val_accuracy: 0.9546\n",
      "Epoch 37/50\n",
      "8/8 [==============================] - 0s 3ms/step - loss: 0.1309 - accuracy: 0.9525 - val_loss: 0.1189 - val_accuracy: 0.9500\n",
      "Epoch 38/50\n",
      "8/8 [==============================] - 0s 3ms/step - loss: 0.1307 - accuracy: 0.9523 - val_loss: 0.1227 - val_accuracy: 0.9454\n",
      "Epoch 39/50\n",
      "8/8 [==============================] - 0s 3ms/step - loss: 0.1296 - accuracy: 0.9543 - val_loss: 0.1150 - val_accuracy: 0.9515\n",
      "Epoch 40/50\n",
      "8/8 [==============================] - 0s 3ms/step - loss: 0.1256 - accuracy: 0.9520 - val_loss: 0.1143 - val_accuracy: 0.9600\n",
      "Epoch 41/50\n",
      "8/8 [==============================] - 0s 3ms/step - loss: 0.1243 - accuracy: 0.9554 - val_loss: 0.1137 - val_accuracy: 0.9577\n",
      "Epoch 42/50\n",
      "8/8 [==============================] - 0s 3ms/step - loss: 0.1238 - accuracy: 0.9559 - val_loss: 0.1103 - val_accuracy: 0.9554\n",
      "Epoch 43/50\n",
      "8/8 [==============================] - 0s 3ms/step - loss: 0.1210 - accuracy: 0.9566 - val_loss: 0.1089 - val_accuracy: 0.9538\n",
      "Epoch 44/50\n",
      "8/8 [==============================] - 0s 3ms/step - loss: 0.1195 - accuracy: 0.9579 - val_loss: 0.1072 - val_accuracy: 0.9577\n",
      "Epoch 45/50\n",
      "8/8 [==============================] - 0s 3ms/step - loss: 0.1182 - accuracy: 0.9569 - val_loss: 0.1066 - val_accuracy: 0.9577\n",
      "Epoch 46/50\n",
      "8/8 [==============================] - 0s 3ms/step - loss: 0.1168 - accuracy: 0.9592 - val_loss: 0.1062 - val_accuracy: 0.9531\n",
      "Epoch 47/50\n",
      "8/8 [==============================] - 0s 3ms/step - loss: 0.1165 - accuracy: 0.9584 - val_loss: 0.1044 - val_accuracy: 0.9577\n",
      "Epoch 48/50\n",
      "8/8 [==============================] - 0s 3ms/step - loss: 0.1137 - accuracy: 0.9592 - val_loss: 0.1032 - val_accuracy: 0.9600\n",
      "Epoch 49/50\n",
      "8/8 [==============================] - 0s 3ms/step - loss: 0.1122 - accuracy: 0.9587 - val_loss: 0.1007 - val_accuracy: 0.9608\n",
      "Epoch 50/50\n",
      "8/8 [==============================] - 0s 3ms/step - loss: 0.1120 - accuracy: 0.9630 - val_loss: 0.0991 - val_accuracy: 0.9615\n"
     ]
    }
   ],
   "source": [
    "#모델을 실행합니다.\n",
    "history = model.fit(X_train,y_train,epochs=50, batch_size=500, validation_split=0.25)#0.8X 0.25 = 0.2\n"
   ]
  },
  {
   "cell_type": "code",
   "execution_count": 16,
   "metadata": {},
   "outputs": [
    {
     "name": "stdout",
     "output_type": "stream",
     "text": [
      "41/41 [==============================] - 0s 916us/step - loss: 0.1160 - accuracy: 0.9592\n",
      "Test accuracy :  0.9592307806015015\n"
     ]
    }
   ],
   "source": [
    "score = model.evaluate(X_test,y_test)\n",
    "print('Test accuracy : ', score[1])"
   ]
  },
  {
   "cell_type": "code",
   "execution_count": null,
   "metadata": {},
   "outputs": [],
   "source": []
  }
 ],
 "metadata": {
  "kernelspec": {
   "display_name": "Python 3.9.12 ('base')",
   "language": "python",
   "name": "python3"
  },
  "language_info": {
   "codemirror_mode": {
    "name": "ipython",
    "version": 3
   },
   "file_extension": ".py",
   "mimetype": "text/x-python",
   "name": "python",
   "nbconvert_exporter": "python",
   "pygments_lexer": "ipython3",
   "version": "3.9.12"
  },
  "orig_nbformat": 4,
  "vscode": {
   "interpreter": {
    "hash": "a077222d77dfe082b8f1dd562ad70e458ac2ab76993a0b248ab0476e32e9e8dd"
   }
  }
 },
 "nbformat": 4,
 "nbformat_minor": 2
}
