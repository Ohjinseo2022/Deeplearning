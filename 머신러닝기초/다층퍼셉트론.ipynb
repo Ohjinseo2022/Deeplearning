{
 "cells": [
  {
   "cell_type": "code",
   "execution_count": 8,
   "metadata": {},
   "outputs": [],
   "source": [
    "import numpy as np \n",
    "\n",
    "# 정해진 가중치와 바이어스를 넘파이 라이브러리를 통해 선언\n",
    "w11 = np.array([-2,-2])\n",
    "w12 = np.array([2,2])\n",
    "w2 = np.array([1,1])\n",
    "b1 = 3\n",
    "b2 = -1 \n",
    "b3 = -1\n"
   ]
  },
  {
   "cell_type": "code",
   "execution_count": 2,
   "metadata": {},
   "outputs": [],
   "source": [
    "# 퍼셉트론 함수 생성\n",
    "def MLP(x,w,b):\n",
    "  y = np.sum(w*x)+b\n",
    "  if y <= 0:\n",
    "    return 0 \n",
    "  else:\n",
    "    return 1"
   ]
  },
  {
   "cell_type": "code",
   "execution_count": 6,
   "metadata": {},
   "outputs": [],
   "source": [
    "# NAND 게이트\n",
    "def NAND(x1,x2):\n",
    "  return MLP(np.array([x1,x2]),w11,b1)\n",
    "\n",
    "#OR 게이트\n",
    "def OR(x1,x2):\n",
    "  return MLP(np.array([x1,x2]),w12,b2)\n",
    "\n",
    "#AND 게이트\n",
    "def AND(x1,x2):\n",
    "  return MLP(np.array([x1,x2]),w2,b3)\n",
    "\n",
    "# XOR 게이트\n",
    "def XOR(x1,x2):\n",
    "  return AND(NAND(x1,x2),OR(x1,x2))"
   ]
  },
  {
   "cell_type": "code",
   "execution_count": 7,
   "metadata": {},
   "outputs": [
    {
     "name": "stdout",
     "output_type": "stream",
     "text": [
      "입력값 : (0, 0)출력값 : 0\n",
      "입력값 : (0, 1)출력값 : 1\n",
      "입력값 : (1, 0)출력값 : 1\n",
      "입력값 : (1, 1)출력값 : 0\n"
     ]
    }
   ],
   "source": [
    "for x in [(0,0),(0,1),(1,0),(1,1)]:\n",
    "  y = XOR(x[0],x[1])\n",
    "  print(\"입력값 : \"+str(x)+\"출력값 : \"+str(y))"
   ]
  },
  {
   "cell_type": "code",
   "execution_count": null,
   "metadata": {},
   "outputs": [],
   "source": []
  }
 ],
 "metadata": {
  "kernelspec": {
   "display_name": "Python 3.9.12 ('base')",
   "language": "python",
   "name": "python3"
  },
  "language_info": {
   "codemirror_mode": {
    "name": "ipython",
    "version": 3
   },
   "file_extension": ".py",
   "mimetype": "text/x-python",
   "name": "python",
   "nbconvert_exporter": "python",
   "pygments_lexer": "ipython3",
   "version": "3.9.12"
  },
  "orig_nbformat": 4,
  "vscode": {
   "interpreter": {
    "hash": "a077222d77dfe082b8f1dd562ad70e458ac2ab76993a0b248ab0476e32e9e8dd"
   }
  }
 },
 "nbformat": 4,
 "nbformat_minor": 2
}
